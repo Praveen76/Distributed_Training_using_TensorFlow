{
  "cells": [
    {
      "cell_type": "markdown",
      "metadata": {
        "id": "view-in-github",
        "colab_type": "text"
      },
      "source": [
        "<a href=\"https://colab.research.google.com/github/Praveen76/Distributed_Training_using_TensorFlow/blob/main/Distributed_Training_using_TensorFlow.ipynb\" target=\"_parent\"><img src=\"https://colab.research.google.com/assets/colab-badge.svg\" alt=\"Open In Colab\"/></a>"
      ]
    },
    {
      "cell_type": "markdown",
      "source": [
        "## Learning Objectives"
      ],
      "metadata": {
        "id": "EAZVywGjYOLG"
      }
    },
    {
      "cell_type": "markdown",
      "source": [
        "At the end of the experiment, you will be able to:\n",
        "\n",
        "* Understand different types of parallelizing strategies.\n",
        "* Use a custom training loop.\n",
        "* Implement a few strategies with keras.\n",
        "* Train the model by making use of distriburted training."
      ],
      "metadata": {
        "id": "oGIgwWkpBukl"
      }
    },
    {
      "cell_type": "markdown",
      "source": [
        "## Introduction"
      ],
      "metadata": {
        "id": "MQbTTAphYTUV"
      }
    },
    {
      "cell_type": "markdown",
      "metadata": {
        "id": "xHxb-dlhMIzW"
      },
      "source": [
        "`tf.distribute.Strategy` is a TensorFlow API to distribute training across multiple GPUs, multiple machines, or TPUs. Using this API, you can distribute your existing models and training code with minimal code changes.\n",
        "\n",
        "`tf.distribute.Strategy` has been designed with these key goals in mind:\n",
        "\n",
        "* Easy to use and support multiple user segments, including researchers, machine learning engineers, etc.\n",
        "* Provide good performance out of the box.\n",
        "* Easy switching between strategies.\n",
        "\n",
        "You can distribute training using `tf.distribute.Strategy` with a high-level API like Keras `Model.fit`, as well as [custom training loops](https://www.tensorflow.org/guide/keras/writing_a_training_loop_from_scratch) (and, in general, any computation using TensorFlow).\n",
        "\n",
        "In TensorFlow 2.x, you can execute your programs eagerly. Eager mode is only recommended for debugging purposes and not supported for `tf.distribute.TPUStrategy`. Although training is the focus of this guide, this API can also be used for distributing evaluation and prediction on different platforms.\n",
        "\n",
        "You can use `tf.distribute.Strategy` with very few changes to your code, because the underlying components of TensorFlow have been changed to become strategy-aware. This includes variables, layers, models, optimizers, metrics, summaries, and checkpoints.\n",
        "\n",
        "In this tutorial, you will learn about various types of strategies and how you can use them in different situations."
      ]
    },
    {
      "cell_type": "markdown",
      "source": [
        "Find the official documentation of `tf.distribute.Strategy` [here](https://www.tensorflow.org/api_docs/python/tf/distribute/Strategy)."
      ],
      "metadata": {
        "id": "S6hAwiwpA-TV"
      }
    },
    {
      "cell_type": "markdown",
      "metadata": {
        "id": "b3600ee25c8e"
      },
      "source": [
        "## Import necessary libraries"
      ]
    },
    {
      "cell_type": "code",
      "execution_count": 1,
      "metadata": {
        "id": "EVOZFbNgXghB"
      },
      "outputs": [],
      "source": [
        "import tensorflow as tf\n",
        "import numpy as np"
      ]
    },
    {
      "cell_type": "markdown",
      "source": [
        "## Types of strategies"
      ],
      "metadata": {
        "id": "YqMTn_1LUXIG"
      }
    },
    {
      "cell_type": "markdown",
      "metadata": {
        "id": "eQ1QESxxEbCh"
      },
      "source": [
        "`tf.distribute.Strategy` intends to cover a number of use cases along different axes. Some of these combinations are currently supported and others will be added in the future. Some of these axes are:\n",
        "\n",
        "- *Synchronous vs asynchronous training:* These are two common ways of distributing training with data parallelism. In synchronous training, all workers train over different slices of input data in sync, and aggregating gradients at each step. In asynchronous training, all workers are independently training over the input data and updating variables asynchronously. Typically synchronous training is supported via all-reduce and asynchronous through parameter server architecture.\n",
        "- *Hardware platform:* You may want to scale your training onto multiple GPUs on one machine, or multiple machines in a network (with 0 or more GPUs each), or on Cloud TPUs.\n",
        "\n",
        "In order to support these use cases, TensorFlow has `MirroredStrategy`, `TPUStrategy`, `MultiWorkerMirroredStrategy`, `ParameterServerStrategy`, `CentralStorageStrategy`, as well as other strategies available. The next section explains which of these are supported in which scenarios in TensorFlow. Here is a quick overview:\n",
        "\n",
        "| Training API             | `MirroredStrategy` | `TPUStrategy` | `MultiWorkerMirroredStrategy` | `CentralStorageStrategy` | `ParameterServerStrategy` |\n",
        "| :----------------------- | :----------------- | :------------ | :---------------------------- | :----------------------- | :------------------------ |\n",
        "| **Keras `Model.fit`**    | Supported          | Supported     | Supported                     | Experimental support     | Experimental support      |\n",
        "| **Custom training loop** | Supported          | Supported     | Supported                     | Experimental support     | Experimental support      |\n",
        "| **Estimator API**        | Limited Support    | Not supported | Limited Support               | Limited Support          | Limited Support           |\n",
        "\n",
        "Note: [Experimental support](https://www.tensorflow.org/guide/versions#what_is_not_covered) means the APIs are not covered by any compatibility guarantees.\n",
        "\n",
        "Warning: Estimator support is limited. Basic training and evaluation are experimental, and advanced features—such as scaffold—are not implemented. You should be using Keras or custom training loops if a use case is not covered. Estimators are not recommended for new code. Estimators run `v1.Session`-style code which is more difficult to write correctly, and can behave unexpectedly, especially when combined with TF 2 code. Estimators do fall under our [compatibility guarantees](https://tensorflow.org/guide/versions), but will receive no fixes other than security vulnerabilities. Go to the [migration guide](https://tensorflow.org/guide/migrate) for details."
      ]
    },
    {
      "cell_type": "markdown",
      "source": [
        "#### MirroredStrategy"
      ],
      "metadata": {
        "id": "R0HZKddoUTis"
      }
    },
    {
      "cell_type": "markdown",
      "metadata": {
        "id": "DoQKKK8dtfg6"
      },
      "source": [
        "`tf.distribute.MirroredStrategy` supports synchronous distributed training on multiple GPUs on one machine. It creates one replica per GPU device. Each variable in the model is mirrored across all the replicas. Together, these variables form a single conceptual variable called `MirroredVariable`. These variables are kept in sync with each other by applying identical updates.\n",
        "\n",
        "Efficient all-reduce algorithms are used to communicate the variable updates across the devices. All-reduce aggregates tensors across all the devices by adding them up, and makes them available on each device. It’s a fused algorithm that is very efficient and can reduce the overhead of synchronization significantly. There are many all-reduce algorithms and implementations available, depending on the type of communication available between devices. By default, it uses the NVIDIA Collective Communication Library ([NCCL](https://developer.nvidia.com/nccl)) as the all-reduce implementation. You can choose from a few other options or write your own.\n",
        "\n",
        "Here is the simplest way of creating `MirroredStrategy`:"
      ]
    },
    {
      "cell_type": "code",
      "execution_count": 2,
      "metadata": {
        "id": "9Z4FMAY9ADxK"
      },
      "outputs": [],
      "source": [
        "mirrored_strategy = tf.distribute.MirroredStrategy()"
      ]
    },
    {
      "cell_type": "markdown",
      "metadata": {
        "id": "wldY4aFCAH4r"
      },
      "source": [
        "This will create a `MirroredStrategy` instance, which will use all the GPUs that are visible to TensorFlow, and NCCL—as the cross-device communication.\n",
        "\n",
        "If you wish to use only some of the GPUs on your machine, you can do so like this:"
      ]
    },
    {
      "cell_type": "code",
      "execution_count": 3,
      "metadata": {
        "id": "nbGleskCACv_"
      },
      "outputs": [],
      "source": [
        "mirrored_strategy = tf.distribute.MirroredStrategy(devices=[\"/gpu:0\", \"/gpu:1\"])"
      ]
    },
    {
      "cell_type": "markdown",
      "metadata": {
        "id": "8-KDnrJLAhav"
      },
      "source": [
        "If you wish to override the cross device communication, you can do so using the `cross_device_ops` argument by supplying an instance of `tf.distribute.CrossDeviceOps`. Currently, `tf.distribute.HierarchicalCopyAllReduce` and `tf.distribute.ReductionToOneDevice` are two options other than `tf.distribute.NcclAllReduce`, which is the default."
      ]
    },
    {
      "cell_type": "code",
      "execution_count": 4,
      "metadata": {
        "id": "6-xIOIpgBItn"
      },
      "outputs": [],
      "source": [
        "mirrored_strategy = tf.distribute.MirroredStrategy(\n",
        "    cross_device_ops=tf.distribute.HierarchicalCopyAllReduce()\n",
        "    )"
      ]
    },
    {
      "cell_type": "markdown",
      "source": [
        "#### TPUStrategy"
      ],
      "metadata": {
        "id": "rtsgbrYyUOW9"
      }
    },
    {
      "cell_type": "markdown",
      "metadata": {
        "id": "kPEBCMzsGaO5"
      },
      "source": [
        "`tf.distribute.TPUStrategy` lets you run your TensorFlow training on [Tensor Processing Units (TPUs)](tpu.ipynb). TPUs are Google's specialized ASICs (application-specific integrated circuits) designed to dramatically accelerate machine learning workloads. They are available on [Google Colab](https://colab.research.google.com/), the [TPU Research Cloud](https://sites.research.google/trc/), and [Cloud TPU](https://cloud.google.com/tpu).\n",
        "\n",
        "In terms of distributed training architecture, `TPUStrategy` is the same `MirroredStrategy`—it implements synchronous distributed training. TPUs provide their own implementation of efficient all-reduce and other collective operations across multiple TPU cores, which are used in `TPUStrategy`.\n",
        "\n",
        "Here is how you would instantiate `TPUStrategy`:\n",
        "\n",
        "Note: To run any TPU code in Colab, you should select TPU as the Colab runtime. Refer to the [Use TPUs](tpu.ipynb) guide for a complete example.\n",
        "\n",
        "```python\n",
        "cluster_resolver = tf.distribute.cluster_resolver.TPUClusterResolver(\n",
        "    tpu=tpu_address)\n",
        "tf.config.experimental_connect_to_cluster(cluster_resolver)\n",
        "tf.tpu.experimental.initialize_tpu_system(cluster_resolver)\n",
        "tpu_strategy = tf.distribute.TPUStrategy(cluster_resolver)\n",
        "```\n",
        "\n",
        "The `TPUClusterResolver` instance helps locate the TPUs. In Colab, you don't need to specify any arguments to it.\n",
        "\n",
        "If you want to use this for Cloud TPUs:\n",
        "\n",
        "- You must specify the name of your TPU resource in the `tpu` argument.\n",
        "- You must initialize the TPU system explicitly at the *start* of the program. This is required before TPUs can be used for computation. Initializing the TPU system also wipes out the TPU memory, so it's important to complete this step first in order to avoid losing state."
      ]
    },
    {
      "cell_type": "markdown",
      "source": [
        "#### MultiWorkerMirroredStrategy"
      ],
      "metadata": {
        "id": "ZxJhLo0dUI_8"
      }
    },
    {
      "cell_type": "markdown",
      "metadata": {
        "id": "8Xc3gyo0Bejd"
      },
      "source": [
        "`tf.distribute.MultiWorkerMirroredStrategy` is very similar to `MirroredStrategy`. It implements synchronous distributed training across multiple workers, each with potentially multiple GPUs. Similar to `tf.distribute.MirroredStrategy`, it creates copies of all variables in the model on each device across all workers.\n",
        "\n",
        "Here is the simplest way of creating `MultiWorkerMirroredStrategy`:"
      ]
    },
    {
      "cell_type": "code",
      "execution_count": 5,
      "metadata": {
        "id": "m3a_6ebbEjre",
        "colab": {
          "base_uri": "https://localhost:8080/"
        },
        "outputId": "66925d5d-0e06-4b52-da09-77f0056e0bb3"
      },
      "outputs": [
        {
          "output_type": "stream",
          "name": "stderr",
          "text": [
            "WARNING:tensorflow:Collective ops is not configured at program startup. Some performance features may not be enabled.\n"
          ]
        }
      ],
      "source": [
        "strategy = tf.distribute.MultiWorkerMirroredStrategy()"
      ]
    },
    {
      "cell_type": "markdown",
      "metadata": {
        "id": "bt94JBvhEr4s"
      },
      "source": [
        "`MultiWorkerMirroredStrategy` has two implementations for cross-device communications. `CommunicationImplementation.RING` is [RPC](https://en.wikipedia.org/wiki/Remote_procedure_call)-based and supports both CPUs and GPUs. `CommunicationImplementation.NCCL` uses NCCL and provides state-of-art performance on GPUs but it doesn't support CPUs. `CollectiveCommunication.AUTO` defers the choice to Tensorflow. You can specify them in the following way:\n"
      ]
    },
    {
      "cell_type": "code",
      "execution_count": 6,
      "metadata": {
        "id": "QGX_QAEtFQSv",
        "colab": {
          "base_uri": "https://localhost:8080/"
        },
        "outputId": "a610a7eb-9c24-46cc-f423-ef304bf937fe"
      },
      "outputs": [
        {
          "output_type": "stream",
          "name": "stderr",
          "text": [
            "WARNING:tensorflow:Collective ops is not configured at program startup. Some performance features may not be enabled.\n",
            "WARNING:tensorflow:Enabled NCCL communication but no GPUs detected/specified.\n"
          ]
        }
      ],
      "source": [
        "communication_options = tf.distribute.experimental.CommunicationOptions(\n",
        "    implementation=tf.distribute.experimental.CommunicationImplementation.NCCL\n",
        "    )\n",
        "\n",
        "strategy = tf.distribute.MultiWorkerMirroredStrategy(\n",
        "    communication_options=communication_options\n",
        "    )"
      ]
    },
    {
      "cell_type": "markdown",
      "metadata": {
        "id": "0JiImlw3F77E"
      },
      "source": [
        "One of the key differences to get multi worker training going, as compared to multi-GPU training, is the multi-worker setup. The `'TF_CONFIG'` environment variable is the standard way in TensorFlow to specify the cluster configuration to each worker that is part of the cluster. Learn more in the [setting up TF_CONFIG section](#TF_CONFIG) of this document.\n",
        "\n",
        "For more details about `MultiWorkerMirroredStrategy`, consider the following tutorials:\n",
        "\n",
        "- [Multi-worker training with Keras Model.fit](../tutorials/distribute/multi_worker_with_keras.ipynb)\n",
        "- [Multi-worker training with a custom training loop](../tutorials/distribute/multi_worker_with_ctl.ipynb)"
      ]
    },
    {
      "cell_type": "markdown",
      "source": [
        "#### ParameterServerStrategy"
      ],
      "metadata": {
        "id": "ajw6AM_lUFQ4"
      }
    },
    {
      "cell_type": "markdown",
      "metadata": {
        "id": "3ZLBhaP9NUNr"
      },
      "source": [
        "Parameter server training is a common data-parallel method to scale up model training on multiple machines. A parameter server training cluster consists of workers and parameter servers. Variables are created on parameter servers and they are read and updated by workers in each step. Check out the [Parameter server training](../tutorials/distribute/parameter_server_training.ipynb) tutorial for details.\n",
        "\n",
        "In TensorFlow 2, parameter server training uses a central coordinator-based architecture via the `tf.distribute.experimental.coordinator.ClusterCoordinator` class.\n",
        "\n",
        "In this implementation, the `worker` and `parameter server` tasks run `tf.distribute.Server` that listen for tasks from the coordinator. The coordinator creates resources, dispatches training tasks, writes checkpoints, and deals with task failures.\n",
        "\n",
        "In the programming running on the coordinator, you will use a `ParameterServerStrategy` object to define a training step and use a `ClusterCoordinator` to dispatch training steps to remote workers. Here is the simplest way to create them:\n",
        "\n",
        "```python\n",
        "strategy = tf.distribute.experimental.ParameterServerStrategy(\n",
        "    tf.distribute.cluster_resolver.TFConfigClusterResolver(),\n",
        "    variable_partitioner=variable_partitioner)\n",
        "coordinator = tf.distribute.experimental.coordinator.ClusterCoordinator(\n",
        "    strategy)\n",
        "```\n",
        "\n",
        "To learn more about `ParameterServerStrategy`, check out the [Parameter server training with Keras Model.fit and a custom training loop](../tutorials/distribute/parameter_server_training.ipynb) tutorial.\n",
        "\n",
        "Note: You will need to configure the `'TF_CONFIG'` environment variable if you use `TFConfigClusterResolver`. It is similar to [`'TF_CONFIG'`](#TF_CONFIG) in `MultiWorkerMirroredStrategy` but has additional caveats.\n",
        "\n",
        "In TensorFlow 1, `ParameterServerStrategy` is available only with an Estimator via `tf.compat.v1.distribute.experimental.ParameterServerStrategy` symbol."
      ]
    },
    {
      "cell_type": "markdown",
      "metadata": {
        "id": "E20tG21LFfv1"
      },
      "source": [
        "Note: This strategy is [`experimental`](https://www.tensorflow.org/guide/versions#what_is_not_covered) as it is currently under active development."
      ]
    },
    {
      "cell_type": "markdown",
      "source": [
        "### CentralStorageStrategy"
      ],
      "metadata": {
        "id": "NI_ahiUTT-Ps"
      }
    },
    {
      "cell_type": "markdown",
      "metadata": {
        "id": "45H0Wa8WKI8z"
      },
      "source": [
        "`tf.distribute.experimental.CentralStorageStrategy` does synchronous training as well. Variables are not mirrored, instead they are placed on the CPU and operations are replicated across all local GPUs. If there is only one GPU, all variables and operations will be placed on that GPU.\n",
        "\n",
        "Create an instance of `CentralStorageStrategy` by:\n"
      ]
    },
    {
      "cell_type": "code",
      "execution_count": 7,
      "metadata": {
        "id": "rtjZOyaoMWrP"
      },
      "outputs": [],
      "source": [
        "central_storage_strategy = tf.distribute.experimental.CentralStorageStrategy()"
      ]
    },
    {
      "cell_type": "markdown",
      "metadata": {
        "id": "KY1nJHNkMl7b"
      },
      "source": [
        "This will create a `CentralStorageStrategy` instance which will use all visible GPUs and CPU. Update to variables on replicas will be aggregated before being applied to variables."
      ]
    },
    {
      "cell_type": "markdown",
      "metadata": {
        "id": "aAFycYUiNCUb"
      },
      "source": [
        "Note: This strategy is [`experimental`](https://www.tensorflow.org/guide/versions#what_is_not_covered), as it is currently a work in progress."
      ]
    },
    {
      "cell_type": "markdown",
      "source": [
        "### Other strategies"
      ],
      "metadata": {
        "id": "hixSXyRfT50p"
      }
    },
    {
      "cell_type": "markdown",
      "metadata": {
        "id": "t2XUdmIxKljq"
      },
      "source": [
        "In addition to the above strategies, there are two other strategies which might be useful for prototyping and debugging when using `tf.distribute` APIs."
      ]
    },
    {
      "cell_type": "markdown",
      "source": [
        "#### Default Strategy"
      ],
      "metadata": {
        "id": "9D0vtpsLT16J"
      }
    },
    {
      "cell_type": "markdown",
      "metadata": {
        "id": "UD5I1beTpc7a"
      },
      "source": [
        "The Default Strategy is a distribution strategy which is present when no explicit distribution strategy is in scope. It implements the `tf.distribute.Strategy` interface but is a pass-through and provides no actual distribution. For instance, `Strategy.run(fn)` will simply call `fn`. Code written using this strategy should behave exactly as code written without any strategy. You can think of it as a \"no-op\" strategy.\n",
        "\n",
        "The Default Strategy is a singleton—and one cannot create more instances of it. It can be obtained using `tf.distribute.get_strategy` outside any explicit strategy's scope (the same API that can be used to get the current strategy inside an explicit strategy's scope)."
      ]
    },
    {
      "cell_type": "code",
      "execution_count": 8,
      "metadata": {
        "id": "ibHleFOOmPn9"
      },
      "outputs": [],
      "source": [
        "default_strategy = tf.distribute.get_strategy()"
      ]
    },
    {
      "cell_type": "markdown",
      "metadata": {
        "id": "EkxPl_5ImLzc"
      },
      "source": [
        "This strategy serves two main purposes:\n",
        "\n",
        "* It allows writing distribution-aware library code unconditionally. For example, in `tf.keras.optimizers` you can use `tf.distribute.get_strategy` and use that strategy for reducing gradients—it will always return a strategy object on which you can call the `Strategy.reduce` API.\n"
      ]
    },
    {
      "cell_type": "code",
      "execution_count": 9,
      "metadata": {
        "id": "WECeRzUdT6bU",
        "colab": {
          "base_uri": "https://localhost:8080/"
        },
        "outputId": "79f4bbf3-c603-4b4b-b50b-de4f95d4d8bd"
      },
      "outputs": [
        {
          "output_type": "execute_result",
          "data": {
            "text/plain": [
              "1.0"
            ]
          },
          "metadata": {},
          "execution_count": 9
        }
      ],
      "source": [
        "# In optimizer or other library code\n",
        "# Get currently active strategy\n",
        "strategy = tf.distribute.get_strategy()\n",
        "strategy.reduce(\"SUM\", 1., axis=None)  # reduce some values"
      ]
    },
    {
      "cell_type": "markdown",
      "metadata": {
        "id": "JURbH-pUT51B"
      },
      "source": [
        "* Similar to library code, it can be used to write end users' programs to work with and without distribution strategy, without requiring conditional logic. Here's a sample code snippet illustrating this:"
      ]
    },
    {
      "cell_type": "code",
      "execution_count": 10,
      "metadata": {
        "id": "O4Vmae5jmSE6",
        "colab": {
          "base_uri": "https://localhost:8080/"
        },
        "outputId": "331dd0f9-72d9-4f24-e87a-2d0255debfcb"
      },
      "outputs": [
        {
          "output_type": "stream",
          "name": "stdout",
          "text": [
            "<tf.Variable 'Variable:0' shape=() dtype=float32, numpy=1.0>\n"
          ]
        }
      ],
      "source": [
        "if tf.config.list_physical_devices('GPU'):\n",
        "  strategy = tf.distribute.MirroredStrategy()\n",
        "else:  # Use the Default Strategy\n",
        "  strategy = tf.distribute.get_strategy()\n",
        "\n",
        "with strategy.scope():\n",
        "  # Do something interesting\n",
        "  print(tf.Variable(1.))"
      ]
    },
    {
      "cell_type": "markdown",
      "source": [
        "#### OneDeviceStrategy"
      ],
      "metadata": {
        "id": "LcRSxIBfTyJh"
      }
    },
    {
      "cell_type": "markdown",
      "metadata": {
        "id": "kTzsqN4lmJ0d"
      },
      "source": [
        "`tf.distribute.OneDeviceStrategy` is a strategy to place all variables and computation on a single specified device.\n",
        "\n",
        "```python\n",
        "strategy = tf.distribute.OneDeviceStrategy(device=\"/gpu:0\")\n",
        "```\n",
        "\n",
        "This strategy is distinct from the Default Strategy in a number of ways. In the Default Strategy, the variable placement logic remains unchanged when compared to running TensorFlow without any distribution strategy. But when using `OneDeviceStrategy`, all variables created in its scope are explicitly placed on the specified device. Moreover, any functions called via `OneDeviceStrategy.run` will also be placed on the specified device.\n",
        "\n",
        "Input distributed through this strategy will be prefetched to the specified device. In the Default Strategy, there is no input distribution.\n",
        "\n",
        "Similar to the Default Strategy, this strategy could also be used to test your code before switching to other strategies which actually distribute to multiple devices/machines. This will exercise the distribution strategy machinery somewhat more than the Default Strategy, but not to the full extent of using, for example, `MirroredStrategy` or `TPUStrategy`. If you want code that behaves as if there is no strategy, then use the Default Strategy."
      ]
    },
    {
      "cell_type": "markdown",
      "metadata": {
        "id": "hQv1lm9UPDFy"
      },
      "source": [
        "So far you've learned about different strategies and how you can instantiate them. The next few sections show the different ways in which you can use them to distribute your training."
      ]
    },
    {
      "cell_type": "markdown",
      "source": [
        "## Use tf.distribute.Strategy with Keras Model.fit"
      ],
      "metadata": {
        "id": "1n3awGaTTu2j"
      }
    },
    {
      "cell_type": "markdown",
      "metadata": {
        "id": "_mcuy3UhPcen"
      },
      "source": [
        "`tf.distribute.Strategy` is integrated into `tf.keras`, which is TensorFlow's implementation of the [Keras API specification](https://keras.io/api/). `tf.keras` is a high-level API to build and train models. By integrating into the `tf.keras` backend, it's seamless to distribute the training written in the Keras training framework [using Model.fit](https://www.tensorflow.org/guide/keras/customizing_what_happens_in_fit).\n",
        "\n",
        "Change to be made in the code:\n",
        "\n",
        "1. Create an instance of the appropriate `tf.distribute.Strategy`.\n",
        "2. Move the creation of Keras model, optimizer and metrics inside `strategy.scope`. Thus the code in the model's `call()`, `train_step()`, and `test_step()` methods will all be distributed and executed on the accelerator(s).\n",
        "\n",
        "TensorFlow distribution strategies support all types of Keras models—[Sequential](https://www.tensorflow.org/guide/keras/sequential_model), [Functional](https://www.tensorflow.org/guide/keras/functional), and [subclassed](https://www.tensorflow.org/guide/keras/custom_layers_and_models)\n",
        "\n",
        "Here is a snippet of code to do this for a very simple Keras model with one `Dense` layer:"
      ]
    },
    {
      "cell_type": "code",
      "execution_count": 11,
      "metadata": {
        "id": "gbbcpzRnPZ6V"
      },
      "outputs": [],
      "source": [
        "mirrored_strategy = tf.distribute.MirroredStrategy()\n",
        "\n",
        "with mirrored_strategy.scope():\n",
        "  model = tf.keras.Sequential([\n",
        "      tf.keras.layers.Dense(1, input_shape=(1,),\n",
        "                            kernel_regularizer=tf.keras.regularizers.L2(1e-4))])\n",
        "  model.compile(loss='mse', optimizer='sgd')"
      ]
    },
    {
      "cell_type": "markdown",
      "metadata": {
        "id": "773EOxCRVlTg"
      },
      "source": [
        "This example uses `MirroredStrategy`, so you can run this on a machine with multiple GPUs. `strategy.scope()` indicates to Keras which strategy to use to distribute the training. Creating models/optimizers/metrics inside this scope allows you to create distributed variables instead of regular variables. Once this is set up, you can fit your model like you would normally. `MirroredStrategy` takes care of replicating the model's training on the available GPUs, aggregating gradients, and more."
      ]
    },
    {
      "cell_type": "code",
      "source": [
        "dataset = tf.data.Dataset.from_tensors(([1.], [1.])).repeat(100).batch(10)\n",
        "model.fit(dataset, epochs=2)\n",
        "model.evaluate(dataset)"
      ],
      "metadata": {
        "colab": {
          "base_uri": "https://localhost:8080/"
        },
        "id": "ufRYaqEt42QV",
        "outputId": "a4ce25e9-e04a-4877-d599-690e0c9f74bd"
      },
      "execution_count": 12,
      "outputs": [
        {
          "output_type": "stream",
          "name": "stdout",
          "text": [
            "Epoch 1/2\n",
            "10/10 [==============================] - 1s 5ms/step - loss: 0.0467\n",
            "Epoch 2/2\n",
            "10/10 [==============================] - 0s 3ms/step - loss: 0.0207\n",
            "10/10 [==============================] - 0s 3ms/step - loss: 0.0129\n"
          ]
        },
        {
          "output_type": "execute_result",
          "data": {
            "text/plain": [
              "0.012884415686130524"
            ]
          },
          "metadata": {},
          "execution_count": 12
        }
      ]
    },
    {
      "cell_type": "markdown",
      "metadata": {
        "id": "nofTLwyXWHK8"
      },
      "source": [
        "Here a `tf.data.Dataset` provides the training and eval input. You can also use NumPy arrays:"
      ]
    },
    {
      "cell_type": "code",
      "execution_count": 13,
      "metadata": {
        "id": "Lqgd9SdxW5OW",
        "colab": {
          "base_uri": "https://localhost:8080/"
        },
        "outputId": "e0003ce5-4c2f-4267-e280-bd1fdbcee572"
      },
      "outputs": [
        {
          "output_type": "stream",
          "name": "stdout",
          "text": [
            "Epoch 1/2\n",
            "10/10 [==============================] - 0s 3ms/step - loss: 0.0092\n",
            "Epoch 2/2\n",
            "10/10 [==============================] - 0s 3ms/step - loss: 0.0041\n"
          ]
        },
        {
          "output_type": "execute_result",
          "data": {
            "text/plain": [
              "<keras.src.callbacks.History at 0x7978a813cf70>"
            ]
          },
          "metadata": {},
          "execution_count": 13
        }
      ],
      "source": [
        "inputs, targets = np.ones((100, 1)), np.ones((100, 1))\n",
        "model.fit(inputs, targets, epochs=2, batch_size=10)"
      ]
    },
    {
      "cell_type": "markdown",
      "metadata": {
        "id": "IKqaj7QwX0Zb"
      },
      "source": [
        "In both cases—with `Dataset` or NumPy—each batch of the given input is divided equally among the multiple replicas. For instance, if you are using the `MirroredStrategy` with 2 GPUs, each batch of size 10 will be divided among the 2 GPUs, with each receiving 5 input examples in each step. Each epoch will then train faster as you add more GPUs. Typically, you would want to increase your batch size as you add more accelerators, so as to make effective use of the extra computing power. You will also need to re-tune your learning rate, depending on the model. You can use `strategy.num_replicas_in_sync` to get the number of replicas."
      ]
    },
    {
      "cell_type": "code",
      "execution_count": 14,
      "metadata": {
        "id": "8ZmJqErtS4A1",
        "colab": {
          "base_uri": "https://localhost:8080/"
        },
        "outputId": "a81bbb3a-b095-4b3e-ff6d-e3b93cef7e7b"
      },
      "outputs": [
        {
          "output_type": "execute_result",
          "data": {
            "text/plain": [
              "1"
            ]
          },
          "metadata": {},
          "execution_count": 14
        }
      ],
      "source": [
        "mirrored_strategy.num_replicas_in_sync"
      ]
    },
    {
      "cell_type": "code",
      "execution_count": 15,
      "metadata": {
        "id": "quNNTytWdGBf"
      },
      "outputs": [],
      "source": [
        "# Compute a global batch size using a number of replicas.\n",
        "BATCH_SIZE_PER_REPLICA = 5\n",
        "global_batch_size = (BATCH_SIZE_PER_REPLICA *\n",
        "                     mirrored_strategy.num_replicas_in_sync)\n",
        "\n",
        "dataset = tf.data.Dataset.from_tensors(([1.], [1.])).repeat(100)\n",
        "dataset = dataset.batch(global_batch_size)\n",
        "\n",
        "LEARNING_RATES_BY_BATCH_SIZE = {5: 0.1, 10: 0.15, 20:0.175}\n",
        "learning_rate = LEARNING_RATES_BY_BATCH_SIZE[global_batch_size]"
      ]
    },
    {
      "cell_type": "markdown",
      "metadata": {
        "id": "IlYVC0goepdk"
      },
      "source": [
        "## Use tf.distribute.Strategy with custom training loops\n",
        "\n",
        "As demonstrated above, using `tf.distribute.Strategy` with Keras `Model.fit` requires changing only a couple lines of the code. With minor adjustments, `tf.distribute.Strategy` can alsoe be used [with custom training loops](https://www.tensorflow.org/guide/keras/writing_a_training_loop_from_scratch).\n",
        "\n",
        "If more flexibility and control over the training loops is required then it is possible with Estimator or Keras, it is also possible to write custom training loops. For instance, when using a GAN, a different number of generator or discriminator steps for each round may be required. Similarly, the high level frameworks are not very suitable for Reinforcement Learning training.\n",
        "\n",
        "The `tf.distribute.Strategy` classes provide a core set of methods to support custom training loops. Using these may require minor restructuring of the code initially, but once that is done, it will be possible to switch between GPUs, TPUs, and multiple machines simply by changing the strategy instance.\n",
        "\n",
        "Below is a brief snippet illustrating this use case for a simple training example using the same Keras model as before.\n"
      ]
    },
    {
      "cell_type": "markdown",
      "metadata": {
        "id": "XNHvSY32nVBi"
      },
      "source": [
        "First, create the model and optimizer inside the strategy's scope. This ensures that any variables created with the model and optimizer are mirrored variables."
      ]
    },
    {
      "cell_type": "code",
      "execution_count": 16,
      "metadata": {
        "id": "W-3Bn-CaiPKD"
      },
      "outputs": [],
      "source": [
        "with mirrored_strategy.scope():\n",
        "  model = tf.keras.Sequential([\n",
        "      tf.keras.layers.Dense(1, input_shape=(1,),\n",
        "                            kernel_regularizer=tf.keras.regularizers.L2(1e-4))]\n",
        "                              )\n",
        "  optimizer = tf.keras.optimizers.SGD()"
      ]
    },
    {
      "cell_type": "markdown",
      "metadata": {
        "id": "mYkAyPeYnlXk"
      },
      "source": [
        "Next, create the input dataset and call `tf.distribute.mirrored_strategy.experimental_distribute_dataset` to distribute the dataset based on the strategy."
      ]
    },
    {
      "cell_type": "code",
      "execution_count": 17,
      "metadata": {
        "id": "94BkvkLInkKd"
      },
      "outputs": [],
      "source": [
        "dataset = tf.data.Dataset.from_tensors(([1.], [1.])).repeat(1000).batch(\n",
        "    global_batch_size\n",
        "    )\n",
        "\n",
        "dist_dataset = mirrored_strategy.experimental_distribute_dataset(dataset)"
      ]
    },
    {
      "cell_type": "markdown",
      "metadata": {
        "id": "grzmTlSvn2j8"
      },
      "source": [
        "Then, define one step of the training. Use `tf.GradientTape` to compute gradients and optimizer to apply those gradients to update the model's variables. To distribute this training step, put it in a function `train_step` and pass it to `tf.distribute.mirrored_strategy.run` along with the dataset inputs from the `dist_dataset` created before:"
      ]
    },
    {
      "cell_type": "code",
      "execution_count": 18,
      "metadata": {
        "id": "NJxL5YrVniDe"
      },
      "outputs": [],
      "source": [
        "# Sets `reduction=NONE` to leave it to tf.nn.compute_average_loss() below.\n",
        "loss_object = tf.keras.losses.BinaryCrossentropy(\n",
        "  from_logits=True,\n",
        "  reduction=tf.keras.losses.Reduction.NONE)\n",
        "\n",
        "def train_step(inputs):\n",
        "  features, labels = inputs\n",
        "\n",
        "  with tf.GradientTape() as tape:\n",
        "    predictions = model(features, training=True)\n",
        "    per_example_loss = loss_object(labels, predictions)\n",
        "    loss = tf.nn.compute_average_loss(per_example_loss)\n",
        "    model_losses = model.losses\n",
        "    if model_losses:\n",
        "      loss += tf.nn.scale_regularization_loss(tf.add_n(model_losses))\n",
        "\n",
        "  gradients = tape.gradient(loss, model.trainable_variables)\n",
        "  optimizer.apply_gradients(zip(gradients, model.trainable_variables))\n",
        "  return loss\n",
        "\n",
        "@tf.function\n",
        "def distributed_train_step(dist_inputs):\n",
        "  per_replica_losses = mirrored_strategy.run(train_step, args=(dist_inputs,))\n",
        "  return mirrored_strategy.reduce(tf.distribute.ReduceOp.SUM, per_replica_losses,\n",
        "                         axis=None)"
      ]
    },
    {
      "cell_type": "markdown",
      "metadata": {
        "id": "yRL5u_NLoTvq"
      },
      "source": [
        "A few other things to note in the code above:\n",
        "\n",
        "  1. `tf.nn.compute_average_loss` is used to reduce the per-example prediction losses to a scalar. `tf.nn.compute_average_loss` sums the per example loss and divides the sum by the global batch size. This is important because later after the gradients are calculated on each replica, they are aggregated across the replicas by **summing** them.\n",
        "\n",
        "  By default, the global batch size is taken to be `tf.get_strategy().num_replicas_in_sync * tf.shape(per_example_loss)[0]`. It can also be specified explicitly as a keyword argument `global_batch_size=`. Without short batches, the default is equivalent to `tf.nn.compute_average_loss(..., global_batch_size=global_batch_size)` with the `global_batch_size` defined above. (For more on short batches and how to avoid or handle them, see the [Custom Training tutorial](../tutorials/distribute/custom_training.ipynb).)\n",
        "\n",
        "  2. `tf.nn.scale_regularization_loss` is used to scale regularization losses registered with the `Model` object, if any, by `1/num_replicas_in_sync` as well. For those regularization losses that are input-dependent, it falls on the modeling code, not the custom training loop, to perform the averaging over the per-replica(!) batch size; that way the modeling code can remain agnostic of replication while the training loop remains agnostic of how regularization losses are computed.\n",
        "\n",
        "  3. When `apply_gradients` is used within a distribution strategy scope, its behavior is modified. Specifically, before applying gradients on each parallel instance during synchronous training, it performs a sum-over-all-replicas of the gradients.\n",
        "\n",
        "  4. `tf.distribute.Strategy.reduce` API is also used to aggregate the results returned by `tf.distribute.Strategy.run` for reporting. `tf.distribute.Strategy.run` returns results from each local replica in the strategy, and there are multiple ways to consume this result. `reduce` them to get an aggregated value.`tf.distribute.Strategy.experimental_local_results` can alsoe be used to get the list of values contained in the result, one per local replica.\n",
        "\n"
      ]
    },
    {
      "cell_type": "markdown",
      "metadata": {
        "id": "o9k_6-6vpQ-P"
      },
      "source": [
        "Finally, once you have defined the training step, you can iterate over `dist_dataset` and run the training in a loop:"
      ]
    },
    {
      "cell_type": "code",
      "execution_count": 19,
      "metadata": {
        "id": "Egq9eufToRf6",
        "colab": {
          "base_uri": "https://localhost:8080/"
        },
        "outputId": "a377577e-8466-4ea4-b904-1ab406acf268"
      },
      "outputs": [
        {
          "output_type": "stream",
          "name": "stdout",
          "text": [
            "tf.Tensor(0.52256536, shape=(), dtype=float32)\n",
            "tf.Tensor(0.51926106, shape=(), dtype=float32)\n",
            "tf.Tensor(0.5159885, shape=(), dtype=float32)\n",
            "tf.Tensor(0.51274747, shape=(), dtype=float32)\n",
            "tf.Tensor(0.5095376, shape=(), dtype=float32)\n",
            "tf.Tensor(0.5063583, shape=(), dtype=float32)\n",
            "tf.Tensor(0.5032095, shape=(), dtype=float32)\n",
            "tf.Tensor(0.5000907, shape=(), dtype=float32)\n",
            "tf.Tensor(0.4970017, shape=(), dtype=float32)\n",
            "tf.Tensor(0.49394202, shape=(), dtype=float32)\n",
            "tf.Tensor(0.4909114, shape=(), dtype=float32)\n",
            "tf.Tensor(0.48790956, shape=(), dtype=float32)\n",
            "tf.Tensor(0.4849361, shape=(), dtype=float32)\n",
            "tf.Tensor(0.4819907, shape=(), dtype=float32)\n",
            "tf.Tensor(0.47907314, shape=(), dtype=float32)\n",
            "tf.Tensor(0.476183, shape=(), dtype=float32)\n",
            "tf.Tensor(0.47332004, shape=(), dtype=float32)\n",
            "tf.Tensor(0.47048393, shape=(), dtype=float32)\n",
            "tf.Tensor(0.46767437, shape=(), dtype=float32)\n",
            "tf.Tensor(0.46489114, shape=(), dtype=float32)\n",
            "tf.Tensor(0.46213377, shape=(), dtype=float32)\n",
            "tf.Tensor(0.45940208, shape=(), dtype=float32)\n",
            "tf.Tensor(0.4566958, shape=(), dtype=float32)\n",
            "tf.Tensor(0.45401457, shape=(), dtype=float32)\n",
            "tf.Tensor(0.4513583, shape=(), dtype=float32)\n",
            "tf.Tensor(0.4487264, shape=(), dtype=float32)\n",
            "tf.Tensor(0.4461188, shape=(), dtype=float32)\n",
            "tf.Tensor(0.4435352, shape=(), dtype=float32)\n",
            "tf.Tensor(0.44097534, shape=(), dtype=float32)\n",
            "tf.Tensor(0.4384389, shape=(), dtype=float32)\n",
            "tf.Tensor(0.4359257, shape=(), dtype=float32)\n",
            "tf.Tensor(0.43343538, shape=(), dtype=float32)\n",
            "tf.Tensor(0.4309678, shape=(), dtype=float32)\n",
            "tf.Tensor(0.4285226, shape=(), dtype=float32)\n",
            "tf.Tensor(0.42609957, shape=(), dtype=float32)\n",
            "tf.Tensor(0.42369854, shape=(), dtype=float32)\n",
            "tf.Tensor(0.42131907, shape=(), dtype=float32)\n",
            "tf.Tensor(0.41896108, shape=(), dtype=float32)\n",
            "tf.Tensor(0.4166243, shape=(), dtype=float32)\n",
            "tf.Tensor(0.41430858, shape=(), dtype=float32)\n",
            "tf.Tensor(0.4120135, shape=(), dtype=float32)\n",
            "tf.Tensor(0.4097389, shape=(), dtype=float32)\n",
            "tf.Tensor(0.40748462, shape=(), dtype=float32)\n",
            "tf.Tensor(0.4052504, shape=(), dtype=float32)\n",
            "tf.Tensor(0.40303597, shape=(), dtype=float32)\n",
            "tf.Tensor(0.40084118, shape=(), dtype=float32)\n",
            "tf.Tensor(0.39866576, shape=(), dtype=float32)\n",
            "tf.Tensor(0.3965095, shape=(), dtype=float32)\n",
            "tf.Tensor(0.3943722, shape=(), dtype=float32)\n",
            "tf.Tensor(0.3922537, shape=(), dtype=float32)\n",
            "tf.Tensor(0.39015374, shape=(), dtype=float32)\n",
            "tf.Tensor(0.38807207, shape=(), dtype=float32)\n",
            "tf.Tensor(0.38600862, shape=(), dtype=float32)\n",
            "tf.Tensor(0.38396305, shape=(), dtype=float32)\n",
            "tf.Tensor(0.38193527, shape=(), dtype=float32)\n",
            "tf.Tensor(0.379925, shape=(), dtype=float32)\n",
            "tf.Tensor(0.3779321, shape=(), dtype=float32)\n",
            "tf.Tensor(0.37595636, shape=(), dtype=float32)\n",
            "tf.Tensor(0.37399766, shape=(), dtype=float32)\n",
            "tf.Tensor(0.37205568, shape=(), dtype=float32)\n",
            "tf.Tensor(0.37013033, shape=(), dtype=float32)\n",
            "tf.Tensor(0.36822143, shape=(), dtype=float32)\n",
            "tf.Tensor(0.3663288, shape=(), dtype=float32)\n",
            "tf.Tensor(0.36445218, shape=(), dtype=float32)\n",
            "tf.Tensor(0.36259153, shape=(), dtype=float32)\n",
            "tf.Tensor(0.36074662, shape=(), dtype=float32)\n",
            "tf.Tensor(0.3589172, shape=(), dtype=float32)\n",
            "tf.Tensor(0.35710323, shape=(), dtype=float32)\n",
            "tf.Tensor(0.35530448, shape=(), dtype=float32)\n",
            "tf.Tensor(0.35352075, shape=(), dtype=float32)\n",
            "tf.Tensor(0.35175192, shape=(), dtype=float32)\n",
            "tf.Tensor(0.34999788, shape=(), dtype=float32)\n",
            "tf.Tensor(0.3482584, shape=(), dtype=float32)\n",
            "tf.Tensor(0.3465334, shape=(), dtype=float32)\n",
            "tf.Tensor(0.34482256, shape=(), dtype=float32)\n",
            "tf.Tensor(0.3431259, shape=(), dtype=float32)\n",
            "tf.Tensor(0.3414432, shape=(), dtype=float32)\n",
            "tf.Tensor(0.3397743, shape=(), dtype=float32)\n",
            "tf.Tensor(0.33811912, shape=(), dtype=float32)\n",
            "tf.Tensor(0.33647743, shape=(), dtype=float32)\n",
            "tf.Tensor(0.33484912, shape=(), dtype=float32)\n",
            "tf.Tensor(0.3332341, shape=(), dtype=float32)\n",
            "tf.Tensor(0.33163217, shape=(), dtype=float32)\n",
            "tf.Tensor(0.3300432, shape=(), dtype=float32)\n",
            "tf.Tensor(0.32846704, shape=(), dtype=float32)\n",
            "tf.Tensor(0.32690358, shape=(), dtype=float32)\n",
            "tf.Tensor(0.32535273, shape=(), dtype=float32)\n",
            "tf.Tensor(0.32381424, shape=(), dtype=float32)\n",
            "tf.Tensor(0.3222881, shape=(), dtype=float32)\n",
            "tf.Tensor(0.32077408, shape=(), dtype=float32)\n",
            "tf.Tensor(0.31927213, shape=(), dtype=float32)\n",
            "tf.Tensor(0.31778207, shape=(), dtype=float32)\n",
            "tf.Tensor(0.31630382, shape=(), dtype=float32)\n",
            "tf.Tensor(0.31483728, shape=(), dtype=float32)\n",
            "tf.Tensor(0.31338224, shape=(), dtype=float32)\n",
            "tf.Tensor(0.31193867, shape=(), dtype=float32)\n",
            "tf.Tensor(0.31050643, shape=(), dtype=float32)\n",
            "tf.Tensor(0.30908534, shape=(), dtype=float32)\n",
            "tf.Tensor(0.30767533, shape=(), dtype=float32)\n",
            "tf.Tensor(0.30627635, shape=(), dtype=float32)\n",
            "tf.Tensor(0.3048882, shape=(), dtype=float32)\n",
            "tf.Tensor(0.30351073, shape=(), dtype=float32)\n",
            "tf.Tensor(0.302144, shape=(), dtype=float32)\n",
            "tf.Tensor(0.3007877, shape=(), dtype=float32)\n",
            "tf.Tensor(0.2994419, shape=(), dtype=float32)\n",
            "tf.Tensor(0.29810634, shape=(), dtype=float32)\n",
            "tf.Tensor(0.29678103, shape=(), dtype=float32)\n",
            "tf.Tensor(0.29546583, shape=(), dtype=float32)\n",
            "tf.Tensor(0.2941606, shape=(), dtype=float32)\n",
            "tf.Tensor(0.2928653, shape=(), dtype=float32)\n",
            "tf.Tensor(0.2915798, shape=(), dtype=float32)\n",
            "tf.Tensor(0.290304, shape=(), dtype=float32)\n",
            "tf.Tensor(0.28903782, shape=(), dtype=float32)\n",
            "tf.Tensor(0.28778118, shape=(), dtype=float32)\n",
            "tf.Tensor(0.28653392, shape=(), dtype=float32)\n",
            "tf.Tensor(0.28529596, shape=(), dtype=float32)\n",
            "tf.Tensor(0.28406724, shape=(), dtype=float32)\n",
            "tf.Tensor(0.2828477, shape=(), dtype=float32)\n",
            "tf.Tensor(0.2816372, shape=(), dtype=float32)\n",
            "tf.Tensor(0.28043565, shape=(), dtype=float32)\n",
            "tf.Tensor(0.27924293, shape=(), dtype=float32)\n",
            "tf.Tensor(0.27805904, shape=(), dtype=float32)\n",
            "tf.Tensor(0.27688384, shape=(), dtype=float32)\n",
            "tf.Tensor(0.2757172, shape=(), dtype=float32)\n",
            "tf.Tensor(0.27455914, shape=(), dtype=float32)\n",
            "tf.Tensor(0.27340952, shape=(), dtype=float32)\n",
            "tf.Tensor(0.2722682, shape=(), dtype=float32)\n",
            "tf.Tensor(0.27113524, shape=(), dtype=float32)\n",
            "tf.Tensor(0.27001047, shape=(), dtype=float32)\n",
            "tf.Tensor(0.26889378, shape=(), dtype=float32)\n",
            "tf.Tensor(0.26778513, shape=(), dtype=float32)\n",
            "tf.Tensor(0.26668444, shape=(), dtype=float32)\n",
            "tf.Tensor(0.26559168, shape=(), dtype=float32)\n",
            "tf.Tensor(0.2645067, shape=(), dtype=float32)\n",
            "tf.Tensor(0.26342943, shape=(), dtype=float32)\n",
            "tf.Tensor(0.26235983, shape=(), dtype=float32)\n",
            "tf.Tensor(0.26129785, shape=(), dtype=float32)\n",
            "tf.Tensor(0.2602434, shape=(), dtype=float32)\n",
            "tf.Tensor(0.25919634, shape=(), dtype=float32)\n",
            "tf.Tensor(0.25815663, shape=(), dtype=float32)\n",
            "tf.Tensor(0.25712433, shape=(), dtype=float32)\n",
            "tf.Tensor(0.25609916, shape=(), dtype=float32)\n",
            "tf.Tensor(0.2550812, shape=(), dtype=float32)\n",
            "tf.Tensor(0.2540703, shape=(), dtype=float32)\n",
            "tf.Tensor(0.25306645, shape=(), dtype=float32)\n",
            "tf.Tensor(0.25206962, shape=(), dtype=float32)\n",
            "tf.Tensor(0.25107962, shape=(), dtype=float32)\n",
            "tf.Tensor(0.2500965, shape=(), dtype=float32)\n",
            "tf.Tensor(0.24912009, shape=(), dtype=float32)\n",
            "tf.Tensor(0.24815041, shape=(), dtype=float32)\n",
            "tf.Tensor(0.24718738, shape=(), dtype=float32)\n",
            "tf.Tensor(0.24623092, shape=(), dtype=float32)\n",
            "tf.Tensor(0.24528103, shape=(), dtype=float32)\n",
            "tf.Tensor(0.24433756, shape=(), dtype=float32)\n",
            "tf.Tensor(0.2434005, shape=(), dtype=float32)\n",
            "tf.Tensor(0.24246971, shape=(), dtype=float32)\n",
            "tf.Tensor(0.24154532, shape=(), dtype=float32)\n",
            "tf.Tensor(0.24062711, shape=(), dtype=float32)\n",
            "tf.Tensor(0.2397151, shape=(), dtype=float32)\n",
            "tf.Tensor(0.23880915, shape=(), dtype=float32)\n",
            "tf.Tensor(0.23790926, shape=(), dtype=float32)\n",
            "tf.Tensor(0.23701538, shape=(), dtype=float32)\n",
            "tf.Tensor(0.2361275, shape=(), dtype=float32)\n",
            "tf.Tensor(0.23524544, shape=(), dtype=float32)\n",
            "tf.Tensor(0.23436928, shape=(), dtype=float32)\n",
            "tf.Tensor(0.23349886, shape=(), dtype=float32)\n",
            "tf.Tensor(0.23263419, shape=(), dtype=float32)\n",
            "tf.Tensor(0.23177518, shape=(), dtype=float32)\n",
            "tf.Tensor(0.23092183, shape=(), dtype=float32)\n",
            "tf.Tensor(0.23007405, shape=(), dtype=float32)\n",
            "tf.Tensor(0.22923182, shape=(), dtype=float32)\n",
            "tf.Tensor(0.22839506, shape=(), dtype=float32)\n",
            "tf.Tensor(0.22756377, shape=(), dtype=float32)\n",
            "tf.Tensor(0.22673781, shape=(), dtype=float32)\n",
            "tf.Tensor(0.22591719, shape=(), dtype=float32)\n",
            "tf.Tensor(0.22510192, shape=(), dtype=float32)\n",
            "tf.Tensor(0.22429183, shape=(), dtype=float32)\n",
            "tf.Tensor(0.22348699, shape=(), dtype=float32)\n",
            "tf.Tensor(0.22268724, shape=(), dtype=float32)\n",
            "tf.Tensor(0.22189264, shape=(), dtype=float32)\n",
            "tf.Tensor(0.22110309, shape=(), dtype=float32)\n",
            "tf.Tensor(0.22031856, shape=(), dtype=float32)\n",
            "tf.Tensor(0.21953903, shape=(), dtype=float32)\n",
            "tf.Tensor(0.21876436, shape=(), dtype=float32)\n",
            "tf.Tensor(0.21799463, shape=(), dtype=float32)\n",
            "tf.Tensor(0.21722975, shape=(), dtype=float32)\n",
            "tf.Tensor(0.21646968, shape=(), dtype=float32)\n",
            "tf.Tensor(0.21571432, shape=(), dtype=float32)\n",
            "tf.Tensor(0.21496373, shape=(), dtype=float32)\n",
            "tf.Tensor(0.21421778, shape=(), dtype=float32)\n",
            "tf.Tensor(0.21347648, shape=(), dtype=float32)\n",
            "tf.Tensor(0.21273981, shape=(), dtype=float32)\n",
            "tf.Tensor(0.21200767, shape=(), dtype=float32)\n",
            "tf.Tensor(0.21128005, shape=(), dtype=float32)\n",
            "tf.Tensor(0.21055694, shape=(), dtype=float32)\n",
            "tf.Tensor(0.20983827, shape=(), dtype=float32)\n",
            "tf.Tensor(0.20912401, shape=(), dtype=float32)\n",
            "tf.Tensor(0.2084141, shape=(), dtype=float32)\n",
            "tf.Tensor(0.20770855, shape=(), dtype=float32)\n",
            "tf.Tensor(0.2070073, shape=(), dtype=float32)\n"
          ]
        }
      ],
      "source": [
        "for dist_inputs in dist_dataset:\n",
        "  print(distributed_train_step(dist_inputs))"
      ]
    },
    {
      "cell_type": "markdown",
      "metadata": {
        "id": "jK8eQXF_q1Zs"
      },
      "source": [
        "In the example above, you iterated over the `dist_dataset` to provide input to your training. You are also provided with the `tf.distribute.Strategy.make_experimental_numpy_dataset` to support NumPy inputs. You can use this API to create a dataset before calling `tf.distribute.Strategy.experimental_distribute_dataset`.\n",
        "\n",
        "Another way of iterating over your data is to explicitly use iterators. You may want to do this when you want to run for a given number of steps as opposed to iterating over the entire dataset. The above iteration would now be modified to first create an iterator and then explicitly call `next` on it to get the input data."
      ]
    },
    {
      "cell_type": "code",
      "execution_count": 20,
      "metadata": {
        "id": "e5BEvR0-LJAc",
        "colab": {
          "base_uri": "https://localhost:8080/"
        },
        "outputId": "aa1a57ee-041a-4aff-afd6-2cc4ceb066c8"
      },
      "outputs": [
        {
          "output_type": "stream",
          "name": "stdout",
          "text": [
            "tf.Tensor(0.20631027, shape=(), dtype=float32)\n",
            "tf.Tensor(0.20561753, shape=(), dtype=float32)\n",
            "tf.Tensor(0.20492889, shape=(), dtype=float32)\n",
            "tf.Tensor(0.20424446, shape=(), dtype=float32)\n",
            "tf.Tensor(0.20356414, shape=(), dtype=float32)\n",
            "tf.Tensor(0.20288792, shape=(), dtype=float32)\n",
            "tf.Tensor(0.20221572, shape=(), dtype=float32)\n",
            "tf.Tensor(0.20154755, shape=(), dtype=float32)\n",
            "tf.Tensor(0.20088334, shape=(), dtype=float32)\n",
            "tf.Tensor(0.20022313, shape=(), dtype=float32)\n"
          ]
        }
      ],
      "source": [
        "iterator = iter(dist_dataset)\n",
        "for _ in range(10):\n",
        "  print(distributed_train_step(next(iterator)))"
      ]
    },
    {
      "cell_type": "markdown",
      "metadata": {
        "id": "vDJO8mnypqBA"
      },
      "source": [
        "This covers the simplest case of using `tf.distribute.Strategy` API to distribute custom training loops."
      ]
    },
    {
      "cell_type": "markdown",
      "source": [
        "### References"
      ],
      "metadata": {
        "id": "ym3ufyi2UuEb"
      }
    },
    {
      "cell_type": "markdown",
      "metadata": {
        "id": "BZjNwCt1qBdw"
      },
      "source": [
        "Here are some examples for using distribution strategies with custom training loops:\n",
        "\n",
        "1. [Tutorial](../tutorials/distribute/custom_training.ipynb): Training with a custom training loop and `MirroredStrategy`.\n",
        "2. [Tutorial](../tutorials/distribute/multi_worker_with_ctl.ipynb): Training with a custom training loop and `MultiWorkerMirroredStrategy`.\n",
        "3. [Guide](tpu.ipynb): Contains an example of a custom training loop with `TPUStrategy`.\n",
        "4. [Tutorial](../tutorials/distribute/parameter_server_training.ipynb): Parameter server training with a custom training loop and `ParameterServerStrategy`.\n",
        "5. TensorFlow Model Garden [repository](https://github.com/tensorflow/models/tree/master/official) containing collections of state-of-the-art models implemented using various strategies.\n",
        "6. [Tutorial](../tutorials/distribute/keras.ipynb): Training with `Model.fit` and `MirroredStrategy`.\n",
        "7. [Tutorial](../tutorials/distribute/multi_worker_with_keras.ipynb): Training with `Model.fit` and `MultiWorkerMirroredStrategy`.\n",
        "8. [Guide](tpu.ipynb): Contains an example of using `Model.fit` and `TPUStrategy`.\n",
        "9. [Tutorial](../tutorials/distribute/parameter_server_training.ipynb): Parameter server training with `Model.fit` and `ParameterServerStrategy`.\n",
        "10. [Tutorial](https://www.tensorflow.org/text/tutorials/bert_glue): Fine-tuning BERT for many tasks from the GLUE benchmark with `Model.fit` and `TPUStrategy`.\n",
        "11. TensorFlow Model Garden [repository](https://github.com/tensorflow/models/tree/master/official) containing collections of state-of-the-art models implemented using various strategies.\n"
      ]
    }
  ],
  "metadata": {
    "colab": {
      "provenance": [],
      "include_colab_link": true
    },
    "kernelspec": {
      "display_name": "Python 3",
      "name": "python3"
    }
  },
  "nbformat": 4,
  "nbformat_minor": 0
}